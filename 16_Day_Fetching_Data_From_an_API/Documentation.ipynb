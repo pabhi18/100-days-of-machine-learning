{
 "cells": [
  {
   "cell_type": "markdown",
   "id": "faf0e5a1",
   "metadata": {},
   "source": [
    "# Day 16: Fetching Data from an API\n",
    "\n",
    "In this documentation, we will discuss how to fetch data from an API using Python.\n",
    "\n",
    "## What is an API?\n",
    "\n",
    "API stands for Application Programming Interface, which allows software to communicate with other software. In simpler terms, it allows different software systems to interact with each other. An API provides a set of protocols and tools for building software applications."
   ]
  },
  {
   "cell_type": "markdown",
   "id": "5105e8bb",
   "metadata": {},
   "source": [
    "## Steps to Fetch Data from an API using Python"
   ]
  },
  {
   "cell_type": "markdown",
   "id": "0e672b6b",
   "metadata": {},
   "source": [
    "### Step 1: Import necessary libraries\n",
    "The first step is to import the necessary libraries. We will use the 'pandas' and 'requests' libraries to fetch and manipulate data from the API."
   ]
  },
  {
   "cell_type": "code",
   "execution_count": 1,
   "id": "6a8c2f9f",
   "metadata": {},
   "outputs": [],
   "source": [
    "import pandas as pd\n",
    "import requests"
   ]
  },
  {
   "cell_type": "markdown",
   "id": "f3103af1",
   "metadata": {},
   "source": [
    "### Step 2: Fetch data from the API\n",
    "The next step is to fetch the data from the API. We will use the 'requests' library to make a request to the API."
   ]
  },
  {
   "cell_type": "code",
   "execution_count": 2,
   "id": "13a56e94",
   "metadata": {},
   "outputs": [],
   "source": [
    "res=requests.get('https://api.covid19api.com/summary')"
   ]
  },
  {
   "cell_type": "markdown",
   "id": "f3134511",
   "metadata": {},
   "source": [
    "### Step 3: Convert the JSON data to a Pandas DataFrame\n",
    "The data returned by the API is in JSON format. We can use the 'json()' method to convert it to a Python dictionary. We will then extract the necessary columns from the dictionary and convert it to a Pandas DataFrame."
   ]
  },
  {
   "cell_type": "code",
   "execution_count": 3,
   "id": "891cf9d9",
   "metadata": {},
   "outputs": [],
   "source": [
    "df=pd.DataFrame(res.json()['Countries'])[['Country','CountryCode','NewConfirmed','TotalConfirmed','NewDeaths','TotalDeaths','NewRecovered','TotalRecovered' ]]"
   ]
  },
  {
   "cell_type": "code",
   "execution_count": 4,
   "id": "7a279146",
   "metadata": {},
   "outputs": [
    {
     "data": {
      "text/html": [
       "<div>\n",
       "<style scoped>\n",
       "    .dataframe tbody tr th:only-of-type {\n",
       "        vertical-align: middle;\n",
       "    }\n",
       "\n",
       "    .dataframe tbody tr th {\n",
       "        vertical-align: top;\n",
       "    }\n",
       "\n",
       "    .dataframe thead th {\n",
       "        text-align: right;\n",
       "    }\n",
       "</style>\n",
       "<table border=\"1\" class=\"dataframe\">\n",
       "  <thead>\n",
       "    <tr style=\"text-align: right;\">\n",
       "      <th></th>\n",
       "      <th>Country</th>\n",
       "      <th>CountryCode</th>\n",
       "      <th>NewConfirmed</th>\n",
       "      <th>TotalConfirmed</th>\n",
       "      <th>NewDeaths</th>\n",
       "      <th>TotalDeaths</th>\n",
       "      <th>NewRecovered</th>\n",
       "      <th>TotalRecovered</th>\n",
       "    </tr>\n",
       "  </thead>\n",
       "  <tbody>\n",
       "    <tr>\n",
       "      <th>0</th>\n",
       "      <td>Afghanistan</td>\n",
       "      <td>AF</td>\n",
       "      <td>0</td>\n",
       "      <td>209451</td>\n",
       "      <td>0</td>\n",
       "      <td>7896</td>\n",
       "      <td>0</td>\n",
       "      <td>0</td>\n",
       "    </tr>\n",
       "    <tr>\n",
       "      <th>1</th>\n",
       "      <td>Albania</td>\n",
       "      <td>AL</td>\n",
       "      <td>14</td>\n",
       "      <td>334457</td>\n",
       "      <td>0</td>\n",
       "      <td>3598</td>\n",
       "      <td>0</td>\n",
       "      <td>0</td>\n",
       "    </tr>\n",
       "    <tr>\n",
       "      <th>2</th>\n",
       "      <td>Algeria</td>\n",
       "      <td>DZ</td>\n",
       "      <td>2</td>\n",
       "      <td>271496</td>\n",
       "      <td>0</td>\n",
       "      <td>6881</td>\n",
       "      <td>0</td>\n",
       "      <td>0</td>\n",
       "    </tr>\n",
       "    <tr>\n",
       "      <th>3</th>\n",
       "      <td>Andorra</td>\n",
       "      <td>AD</td>\n",
       "      <td>0</td>\n",
       "      <td>47890</td>\n",
       "      <td>0</td>\n",
       "      <td>165</td>\n",
       "      <td>0</td>\n",
       "      <td>0</td>\n",
       "    </tr>\n",
       "    <tr>\n",
       "      <th>4</th>\n",
       "      <td>Angola</td>\n",
       "      <td>AO</td>\n",
       "      <td>0</td>\n",
       "      <td>105288</td>\n",
       "      <td>0</td>\n",
       "      <td>1933</td>\n",
       "      <td>0</td>\n",
       "      <td>0</td>\n",
       "    </tr>\n",
       "    <tr>\n",
       "      <th>...</th>\n",
       "      <td>...</td>\n",
       "      <td>...</td>\n",
       "      <td>...</td>\n",
       "      <td>...</td>\n",
       "      <td>...</td>\n",
       "      <td>...</td>\n",
       "      <td>...</td>\n",
       "      <td>...</td>\n",
       "    </tr>\n",
       "    <tr>\n",
       "      <th>192</th>\n",
       "      <td>Venezuela (Bolivarian Republic)</td>\n",
       "      <td>VE</td>\n",
       "      <td>5</td>\n",
       "      <td>552162</td>\n",
       "      <td>0</td>\n",
       "      <td>5854</td>\n",
       "      <td>0</td>\n",
       "      <td>0</td>\n",
       "    </tr>\n",
       "    <tr>\n",
       "      <th>193</th>\n",
       "      <td>Viet Nam</td>\n",
       "      <td>VN</td>\n",
       "      <td>0</td>\n",
       "      <td>11526994</td>\n",
       "      <td>0</td>\n",
       "      <td>43186</td>\n",
       "      <td>0</td>\n",
       "      <td>0</td>\n",
       "    </tr>\n",
       "    <tr>\n",
       "      <th>194</th>\n",
       "      <td>Yemen</td>\n",
       "      <td>YE</td>\n",
       "      <td>0</td>\n",
       "      <td>11945</td>\n",
       "      <td>0</td>\n",
       "      <td>2159</td>\n",
       "      <td>0</td>\n",
       "      <td>0</td>\n",
       "    </tr>\n",
       "    <tr>\n",
       "      <th>195</th>\n",
       "      <td>Zambia</td>\n",
       "      <td>ZM</td>\n",
       "      <td>0</td>\n",
       "      <td>343135</td>\n",
       "      <td>0</td>\n",
       "      <td>4057</td>\n",
       "      <td>0</td>\n",
       "      <td>0</td>\n",
       "    </tr>\n",
       "    <tr>\n",
       "      <th>196</th>\n",
       "      <td>Zimbabwe</td>\n",
       "      <td>ZW</td>\n",
       "      <td>0</td>\n",
       "      <td>264276</td>\n",
       "      <td>0</td>\n",
       "      <td>5671</td>\n",
       "      <td>0</td>\n",
       "      <td>0</td>\n",
       "    </tr>\n",
       "  </tbody>\n",
       "</table>\n",
       "<p>197 rows × 8 columns</p>\n",
       "</div>"
      ],
      "text/plain": [
       "                             Country CountryCode  NewConfirmed  \\\n",
       "0                        Afghanistan          AF             0   \n",
       "1                            Albania          AL            14   \n",
       "2                            Algeria          DZ             2   \n",
       "3                            Andorra          AD             0   \n",
       "4                             Angola          AO             0   \n",
       "..                               ...         ...           ...   \n",
       "192  Venezuela (Bolivarian Republic)          VE             5   \n",
       "193                         Viet Nam          VN             0   \n",
       "194                            Yemen          YE             0   \n",
       "195                           Zambia          ZM             0   \n",
       "196                         Zimbabwe          ZW             0   \n",
       "\n",
       "     TotalConfirmed  NewDeaths  TotalDeaths  NewRecovered  TotalRecovered  \n",
       "0            209451          0         7896             0               0  \n",
       "1            334457          0         3598             0               0  \n",
       "2            271496          0         6881             0               0  \n",
       "3             47890          0          165             0               0  \n",
       "4            105288          0         1933             0               0  \n",
       "..              ...        ...          ...           ...             ...  \n",
       "192          552162          0         5854             0               0  \n",
       "193        11526994          0        43186             0               0  \n",
       "194           11945          0         2159             0               0  \n",
       "195          343135          0         4057             0               0  \n",
       "196          264276          0         5671             0               0  \n",
       "\n",
       "[197 rows x 8 columns]"
      ]
     },
     "execution_count": 4,
     "metadata": {},
     "output_type": "execute_result"
    }
   ],
   "source": [
    "df"
   ]
  },
  {
   "cell_type": "markdown",
   "id": "8f31dcbd",
   "metadata": {},
   "source": [
    "### Step 4: Check the shape of the DataFrame\n",
    "It is always a good practice to check the shape of the DataFrame to ensure that we have fetched the data correctly."
   ]
  },
  {
   "cell_type": "code",
   "execution_count": 5,
   "id": "2a9134ee",
   "metadata": {},
   "outputs": [
    {
     "data": {
      "text/plain": [
       "(197, 8)"
      ]
     },
     "execution_count": 5,
     "metadata": {},
     "output_type": "execute_result"
    }
   ],
   "source": [
    "df.shape"
   ]
  },
  {
   "cell_type": "markdown",
   "id": "9472f78e",
   "metadata": {},
   "source": [
    "### Step 5: Save the DataFrame to a CSV file\n",
    "Finally, we can save the DataFrame to a CSV file using the 'to_csv()' method."
   ]
  },
  {
   "cell_type": "code",
   "execution_count": 7,
   "id": "7bb59b54",
   "metadata": {},
   "outputs": [],
   "source": [
    "df.to_csv('Covid_Data.csv')"
   ]
  },
  {
   "cell_type": "markdown",
   "id": "23b3e871",
   "metadata": {},
   "source": [
    "This is a simple way to fetch data from an API using Python."
   ]
  },
  {
   "cell_type": "markdown",
   "id": "6f52e165",
   "metadata": {},
   "source": [
    "## Additional Resources\n",
    "\n",
    "For more information about working with APIs in Python, you can refer to the following resources: <br>\n",
    "\n",
    "• <a href=\"https://docs.python-requests.org/en/latest/\">Requests library documentation</a> <br>\n",
    "• <a href=\"https://pandas.pydata.org/docs/\">Pandas library documentation</a> "
   ]
  },
  {
   "cell_type": "code",
   "execution_count": null,
   "id": "fd2262b5",
   "metadata": {},
   "outputs": [],
   "source": []
  }
 ],
 "metadata": {
  "kernelspec": {
   "display_name": "Python 3 (ipykernel)",
   "language": "python",
   "name": "python3"
  },
  "language_info": {
   "codemirror_mode": {
    "name": "ipython",
    "version": 3
   },
   "file_extension": ".py",
   "mimetype": "text/x-python",
   "name": "python",
   "nbconvert_exporter": "python",
   "pygments_lexer": "ipython3",
   "version": "3.10.9"
  }
 },
 "nbformat": 4,
 "nbformat_minor": 5
}
