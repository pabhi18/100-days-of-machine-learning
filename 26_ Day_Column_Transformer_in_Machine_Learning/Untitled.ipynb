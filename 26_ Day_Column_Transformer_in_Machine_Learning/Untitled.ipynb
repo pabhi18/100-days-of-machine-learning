{
 "cells": [
  {
   "cell_type": "markdown",
   "id": "149f93ad",
   "metadata": {},
   "source": [
    "# Day 26: Column Transformer in Machine Learning\n",
    "\n",
    "The Column Transformer is a useful tool in scikit-learn library that allows you to apply different preprocessing and feature extraction steps to different columns or subsets of columns in a dataset. It is especially useful when you are working with heterogeneous data, where different columns have different data types or require different preprocessing steps.\n",
    "\n",
    "## Basic Problem\n",
    "\n",
    "Consider a dataset with both numerical and categorical columns. You may want to apply different preprocessing steps to the numerical and categorical columns. For example, you may want to scale the numerical columns and one-hot encode the categorical columns. Using the Column Transformer, you can apply these steps to the appropriate columns without having to split the dataset manually."
   ]
  },
  {
   "cell_type": "markdown",
   "id": "72448a3d",
   "metadata": {},
   "source": [
    "## Example"
   ]
  },
  {
   "cell_type": "code",
   "execution_count": 1,
   "id": "595786a1",
   "metadata": {},
   "outputs": [],
   "source": [
    "import numpy as np\n",
    "import pandas as pd\n",
    "from sklearn.impute import SimpleImputer\n",
    "from sklearn.preprocessing import OneHotEncoder\n",
    "from sklearn.preprocessing import OrdinalEncoder"
   ]
  },
  {
   "cell_type": "code",
   "execution_count": 2,
   "id": "c66d7c97",
   "metadata": {},
   "outputs": [],
   "source": [
    "df = pd.read_csv(\"covid_toy.csv\")"
   ]
  },
  {
   "cell_type": "code",
   "execution_count": 3,
   "id": "67495746",
   "metadata": {},
   "outputs": [
    {
     "data": {
      "text/html": [
       "<div>\n",
       "<style scoped>\n",
       "    .dataframe tbody tr th:only-of-type {\n",
       "        vertical-align: middle;\n",
       "    }\n",
       "\n",
       "    .dataframe tbody tr th {\n",
       "        vertical-align: top;\n",
       "    }\n",
       "\n",
       "    .dataframe thead th {\n",
       "        text-align: right;\n",
       "    }\n",
       "</style>\n",
       "<table border=\"1\" class=\"dataframe\">\n",
       "  <thead>\n",
       "    <tr style=\"text-align: right;\">\n",
       "      <th></th>\n",
       "      <th>age</th>\n",
       "      <th>gender</th>\n",
       "      <th>fever</th>\n",
       "      <th>cough</th>\n",
       "      <th>city</th>\n",
       "      <th>has_covid</th>\n",
       "    </tr>\n",
       "  </thead>\n",
       "  <tbody>\n",
       "    <tr>\n",
       "      <th>0</th>\n",
       "      <td>60</td>\n",
       "      <td>Male</td>\n",
       "      <td>103.0</td>\n",
       "      <td>Mild</td>\n",
       "      <td>Kolkata</td>\n",
       "      <td>No</td>\n",
       "    </tr>\n",
       "    <tr>\n",
       "      <th>1</th>\n",
       "      <td>27</td>\n",
       "      <td>Male</td>\n",
       "      <td>100.0</td>\n",
       "      <td>Mild</td>\n",
       "      <td>Delhi</td>\n",
       "      <td>Yes</td>\n",
       "    </tr>\n",
       "    <tr>\n",
       "      <th>2</th>\n",
       "      <td>42</td>\n",
       "      <td>Male</td>\n",
       "      <td>101.0</td>\n",
       "      <td>Mild</td>\n",
       "      <td>Delhi</td>\n",
       "      <td>No</td>\n",
       "    </tr>\n",
       "    <tr>\n",
       "      <th>3</th>\n",
       "      <td>31</td>\n",
       "      <td>Female</td>\n",
       "      <td>98.0</td>\n",
       "      <td>Mild</td>\n",
       "      <td>Kolkata</td>\n",
       "      <td>No</td>\n",
       "    </tr>\n",
       "    <tr>\n",
       "      <th>4</th>\n",
       "      <td>65</td>\n",
       "      <td>Female</td>\n",
       "      <td>101.0</td>\n",
       "      <td>Mild</td>\n",
       "      <td>Mumbai</td>\n",
       "      <td>No</td>\n",
       "    </tr>\n",
       "    <tr>\n",
       "      <th>5</th>\n",
       "      <td>84</td>\n",
       "      <td>Female</td>\n",
       "      <td>NaN</td>\n",
       "      <td>Mild</td>\n",
       "      <td>Bangalore</td>\n",
       "      <td>Yes</td>\n",
       "    </tr>\n",
       "    <tr>\n",
       "      <th>6</th>\n",
       "      <td>14</td>\n",
       "      <td>Male</td>\n",
       "      <td>101.0</td>\n",
       "      <td>Strong</td>\n",
       "      <td>Bangalore</td>\n",
       "      <td>No</td>\n",
       "    </tr>\n",
       "    <tr>\n",
       "      <th>7</th>\n",
       "      <td>20</td>\n",
       "      <td>Female</td>\n",
       "      <td>NaN</td>\n",
       "      <td>Strong</td>\n",
       "      <td>Mumbai</td>\n",
       "      <td>Yes</td>\n",
       "    </tr>\n",
       "    <tr>\n",
       "      <th>8</th>\n",
       "      <td>19</td>\n",
       "      <td>Female</td>\n",
       "      <td>100.0</td>\n",
       "      <td>Strong</td>\n",
       "      <td>Bangalore</td>\n",
       "      <td>No</td>\n",
       "    </tr>\n",
       "    <tr>\n",
       "      <th>9</th>\n",
       "      <td>64</td>\n",
       "      <td>Female</td>\n",
       "      <td>101.0</td>\n",
       "      <td>Mild</td>\n",
       "      <td>Delhi</td>\n",
       "      <td>No</td>\n",
       "    </tr>\n",
       "  </tbody>\n",
       "</table>\n",
       "</div>"
      ],
      "text/plain": [
       "   age  gender  fever   cough       city has_covid\n",
       "0   60    Male  103.0    Mild    Kolkata        No\n",
       "1   27    Male  100.0    Mild      Delhi       Yes\n",
       "2   42    Male  101.0    Mild      Delhi        No\n",
       "3   31  Female   98.0    Mild    Kolkata        No\n",
       "4   65  Female  101.0    Mild     Mumbai        No\n",
       "5   84  Female    NaN    Mild  Bangalore       Yes\n",
       "6   14    Male  101.0  Strong  Bangalore        No\n",
       "7   20  Female    NaN  Strong     Mumbai       Yes\n",
       "8   19  Female  100.0  Strong  Bangalore        No\n",
       "9   64  Female  101.0    Mild      Delhi        No"
      ]
     },
     "execution_count": 3,
     "metadata": {},
     "output_type": "execute_result"
    }
   ],
   "source": [
    "df.head(10)"
   ]
  },
  {
   "cell_type": "code",
   "execution_count": 4,
   "id": "539c3f42",
   "metadata": {},
   "outputs": [
    {
     "data": {
      "text/plain": [
       "age           0\n",
       "gender        0\n",
       "fever        10\n",
       "cough         0\n",
       "city          0\n",
       "has_covid     0\n",
       "dtype: int64"
      ]
     },
     "execution_count": 4,
     "metadata": {},
     "output_type": "execute_result"
    }
   ],
   "source": [
    "df.isnull().sum()"
   ]
  },
  {
   "cell_type": "markdown",
   "id": "08976c35",
   "metadata": {},
   "source": [
    "In the given data, \"age\" is numeric data and \"gender\", \"fever\", \"cough\", \"city\", \"has_covid\" are categorical data.we can use One Hot Encoding for \"gender\" and \"city\", Simple Impute for \"fever\", and Ordinal Encoding for \"cough\". \"Age\" is numerical data and does not require any encoding."
   ]
  },
  {
   "cell_type": "markdown",
   "id": "50633c83",
   "metadata": {},
   "source": [
    "## Without Column Transformer"
   ]
  },
  {
   "cell_type": "markdown",
   "id": "ce88ff69",
   "metadata": {},
   "source": [
    "### Adding simple imputer to fever col"
   ]
  },
  {
   "cell_type": "code",
   "execution_count": 5,
   "id": "f54fde37",
   "metadata": {},
   "outputs": [],
   "source": [
    "si = SimpleImputer()\n",
    "df_fever = si.fit_transform(df[[\"fever\"]])"
   ]
  },
  {
   "cell_type": "markdown",
   "id": "17501850",
   "metadata": {},
   "source": [
    "### Ordinalencoding to Cough"
   ]
  },
  {
   "cell_type": "code",
   "execution_count": 6,
   "id": "2b3f836a",
   "metadata": {},
   "outputs": [],
   "source": [
    "oe = OrdinalEncoder(categories=[['Mild', 'Strong']])\n",
    "df_cough = oe.fit_transform(df[['cough']])"
   ]
  },
  {
   "cell_type": "markdown",
   "id": "ec5dbf4f",
   "metadata": {},
   "source": [
    "### OneHotEncoding to gender and city"
   ]
  },
  {
   "cell_type": "code",
   "execution_count": 7,
   "id": "4cae2d16",
   "metadata": {},
   "outputs": [
    {
     "name": "stderr",
     "output_type": "stream",
     "text": [
      "/Library/anaconda3/lib/python3.10/site-packages/sklearn/preprocessing/_encoders.py:828: FutureWarning: `sparse` was renamed to `sparse_output` in version 1.2 and will be removed in 1.4. `sparse_output` is ignored unless you leave `sparse` to its default value.\n",
      "  warnings.warn(\n"
     ]
    }
   ],
   "source": [
    "ohe = OneHotEncoder(drop='first', sparse=False)\n",
    "df_gender_city = ohe.fit_transform(df[['gender', 'city']])"
   ]
  },
  {
   "cell_type": "code",
   "execution_count": 8,
   "id": "859890f0",
   "metadata": {},
   "outputs": [],
   "source": [
    "df_age = df.drop(columns=['gender','fever','cough','city']).values"
   ]
  },
  {
   "cell_type": "markdown",
   "id": "9646ca90",
   "metadata": {},
   "source": [
    "### Extracting Age"
   ]
  },
  {
   "cell_type": "code",
   "execution_count": 9,
   "id": "a21cd33c",
   "metadata": {},
   "outputs": [],
   "source": [
    "df_transformed = np.concatenate((df_age, df_fever, df_gender_city, df_cough),axis=1)"
   ]
  },
  {
   "cell_type": "code",
   "execution_count": 10,
   "id": "66cf0daf",
   "metadata": {},
   "outputs": [
    {
     "data": {
      "text/plain": [
       "array([75, 'No', 100.84444444444445, 0.0, 1.0, 0.0, 0.0, 0.0],\n",
       "      dtype=object)"
      ]
     },
     "execution_count": 10,
     "metadata": {},
     "output_type": "execute_result"
    }
   ],
   "source": [
    "df_transformed[10]"
   ]
  },
  {
   "cell_type": "markdown",
   "id": "4a99ad19",
   "metadata": {},
   "source": [
    "## With Column Transformer"
   ]
  },
  {
   "cell_type": "code",
   "execution_count": 11,
   "id": "c713218e",
   "metadata": {},
   "outputs": [],
   "source": [
    "from sklearn.compose import ColumnTransformer"
   ]
  },
  {
   "cell_type": "code",
   "execution_count": 12,
   "id": "bc84462d",
   "metadata": {},
   "outputs": [],
   "source": [
    "transformer = ColumnTransformer(transformers=[\n",
    "    ('tnf1',SimpleImputer(),['fever']),\n",
    "    ('tnf2',OrdinalEncoder(categories=[['Mild','Strong']]),['cough']),\n",
    "    ('tnf3',OneHotEncoder(sparse=False,drop='first'),['gender','city'])\n",
    "],remainder='passthrough')"
   ]
  },
  {
   "cell_type": "code",
   "execution_count": 13,
   "id": "352eac41",
   "metadata": {},
   "outputs": [
    {
     "name": "stderr",
     "output_type": "stream",
     "text": [
      "/Library/anaconda3/lib/python3.10/site-packages/sklearn/preprocessing/_encoders.py:828: FutureWarning: `sparse` was renamed to `sparse_output` in version 1.2 and will be removed in 1.4. `sparse_output` is ignored unless you leave `sparse` to its default value.\n",
      "  warnings.warn(\n"
     ]
    }
   ],
   "source": [
    "df_transformed = transformer.fit_transform(df)"
   ]
  },
  {
   "cell_type": "code",
   "execution_count": 14,
   "id": "cc87eb39",
   "metadata": {},
   "outputs": [
    {
     "data": {
      "text/plain": [
       "array([100.84444444444445, 0.0, 0.0, 1.0, 0.0, 0.0, 75, 'No'],\n",
       "      dtype=object)"
      ]
     },
     "execution_count": 14,
     "metadata": {},
     "output_type": "execute_result"
    }
   ],
   "source": [
    "df_transformed[10]"
   ]
  },
  {
   "cell_type": "code",
   "execution_count": null,
   "id": "bc1aff45",
   "metadata": {},
   "outputs": [],
   "source": []
  }
 ],
 "metadata": {
  "kernelspec": {
   "display_name": "Python 3 (ipykernel)",
   "language": "python",
   "name": "python3"
  },
  "language_info": {
   "codemirror_mode": {
    "name": "ipython",
    "version": 3
   },
   "file_extension": ".py",
   "mimetype": "text/x-python",
   "name": "python",
   "nbconvert_exporter": "python",
   "pygments_lexer": "ipython3",
   "version": "3.10.9"
  }
 },
 "nbformat": 4,
 "nbformat_minor": 5
}
