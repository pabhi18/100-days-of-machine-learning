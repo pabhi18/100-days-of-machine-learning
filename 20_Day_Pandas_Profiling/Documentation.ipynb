{
 "cells": [
  {
   "cell_type": "markdown",
   "id": "450e6b3d",
   "metadata": {},
   "source": [
    "# Pandas Profiling\n",
    "\n",
    "Pandas Profiling\n",
    "\n",
    "Pandas Profiling is an open source Python library that allows users to quickly generate reports with exploratory data analysis on datasets. It provides a comprehensive overview of the data, including statistics about the variables, missing values, and correlations between variables. The library is particularly useful when working with large datasets, as it automates much of the exploratory data analysis process and can help identify potential issues or trends in the data."
   ]
  },
  {
   "cell_type": "markdown",
   "id": "1b792a92",
   "metadata": {},
   "source": [
    "## Installation\n",
    "\n",
    "Pandas Profiling can be installed using pip, a package installer for Python. To install, simply run the following command:"
   ]
  },
  {
   "cell_type": "code",
   "execution_count": 4,
   "id": "4a5f4e6c",
   "metadata": {},
   "outputs": [
    {
     "name": "stdout",
     "output_type": "stream",
     "text": [
      "Collecting pandas-profiling\n",
      "  Downloading pandas_profiling-3.6.6-py2.py3-none-any.whl (324 kB)\n",
      "\u001b[2K     \u001b[90m━━━━━━━━━━━━━━━━━━━━━━━━━━━━━━━━━━━━━━━\u001b[0m \u001b[32m324.4/324.4 kB\u001b[0m \u001b[31m3.0 MB/s\u001b[0m eta \u001b[36m0:00:00\u001b[0m00:01\u001b[0m00:01\u001b[0m\n",
      "\u001b[?25hCollecting ydata-profiling\n",
      "  Downloading ydata_profiling-4.1.2-py2.py3-none-any.whl (345 kB)\n",
      "\u001b[2K     \u001b[90m━━━━━━━━━━━━━━━━━━━━━━━━━━━━━━━━━━━━━━━\u001b[0m \u001b[32m345.9/345.9 kB\u001b[0m \u001b[31m3.9 MB/s\u001b[0m eta \u001b[36m0:00:00\u001b[0m00:01\u001b[0m00:01\u001b[0m\n",
      "\u001b[?25hRequirement already satisfied: requests<2.29,>=2.24.0 in /Library/anaconda3/lib/python3.10/site-packages (from ydata-profiling->pandas-profiling) (2.28.1)\n",
      "Requirement already satisfied: tqdm<4.65,>=4.48.2 in /Library/anaconda3/lib/python3.10/site-packages (from ydata-profiling->pandas-profiling) (4.64.1)\n",
      "Collecting htmlmin==0.1.12\n",
      "  Downloading htmlmin-0.1.12.tar.gz (19 kB)\n",
      "  Preparing metadata (setup.py) ... \u001b[?25ldone\n",
      "\u001b[?25hRequirement already satisfied: jinja2<3.2,>=2.11.1 in /Library/anaconda3/lib/python3.10/site-packages (from ydata-profiling->pandas-profiling) (3.1.2)\n",
      "Collecting visions[type_image_path]==0.7.5\n",
      "  Downloading visions-0.7.5-py3-none-any.whl (102 kB)\n",
      "\u001b[2K     \u001b[90m━━━━━━━━━━━━━━━━━━━━━━━━━━━━━━━━━━━━━━━\u001b[0m \u001b[32m102.7/102.7 kB\u001b[0m \u001b[31m4.9 MB/s\u001b[0m eta \u001b[36m0:00:00\u001b[0m\n",
      "\u001b[?25hRequirement already satisfied: numpy<1.24,>=1.16.0 in /Library/anaconda3/lib/python3.10/site-packages (from ydata-profiling->pandas-profiling) (1.23.5)\n",
      "Collecting typeguard<2.14,>=2.13.2\n",
      "  Downloading typeguard-2.13.3-py3-none-any.whl (17 kB)\n",
      "Requirement already satisfied: seaborn<0.13,>=0.10.1 in /Library/anaconda3/lib/python3.10/site-packages (from ydata-profiling->pandas-profiling) (0.12.2)\n",
      "Collecting pydantic<1.11,>=1.8.1\n",
      "  Downloading pydantic-1.10.7-cp310-cp310-macosx_10_9_x86_64.whl (2.9 MB)\n",
      "\u001b[2K     \u001b[90m━━━━━━━━━━━━━━━━━━━━━━━━━━━━━━━━━━━━━━━━\u001b[0m \u001b[32m2.9/2.9 MB\u001b[0m \u001b[31m4.0 MB/s\u001b[0m eta \u001b[36m0:00:00\u001b[0m00:01\u001b[0m00:01\u001b[0m\n",
      "\u001b[?25hRequirement already satisfied: PyYAML<6.1,>=5.0.0 in /Library/anaconda3/lib/python3.10/site-packages (from ydata-profiling->pandas-profiling) (6.0)\n",
      "Requirement already satisfied: statsmodels<0.14,>=0.13.2 in /Library/anaconda3/lib/python3.10/site-packages (from ydata-profiling->pandas-profiling) (0.13.5)\n",
      "Requirement already satisfied: pandas!=1.4.0,<1.6,>1.1 in /Library/anaconda3/lib/python3.10/site-packages (from ydata-profiling->pandas-profiling) (1.5.3)\n",
      "Collecting scipy<1.10,>=1.4.1\n",
      "  Downloading scipy-1.9.3-cp310-cp310-macosx_10_9_x86_64.whl (34.3 MB)\n",
      "\u001b[2K     \u001b[90m━━━━━━━━━━━━━━━━━━━━━━━━━━━━━━━━━━━━━━━━\u001b[0m \u001b[32m34.3/34.3 MB\u001b[0m \u001b[31m8.8 MB/s\u001b[0m eta \u001b[36m0:00:00\u001b[0m00:01\u001b[0mm0:01\u001b[0mm\n",
      "\u001b[?25hCollecting matplotlib<3.7,>=3.2\n",
      "  Downloading matplotlib-3.6.3-cp310-cp310-macosx_10_12_x86_64.whl (7.3 MB)\n",
      "\u001b[2K     \u001b[90m━━━━━━━━━━━━━━━━━━━━━━━━━━━━━━━━━━━━━━━━\u001b[0m \u001b[32m7.3/7.3 MB\u001b[0m \u001b[31m2.6 MB/s\u001b[0m eta \u001b[36m0:00:00\u001b[0m00:01\u001b[0m00:01\u001b[0mm\n",
      "\u001b[?25hCollecting multimethod<1.10,>=1.4\n",
      "  Downloading multimethod-1.9.1-py3-none-any.whl (10 kB)\n",
      "Collecting imagehash==4.3.1\n",
      "  Downloading ImageHash-4.3.1-py2.py3-none-any.whl (296 kB)\n",
      "\u001b[2K     \u001b[90m━━━━━━━━━━━━━━━━━━━━━━━━━━━━━━━━━━━━━━━\u001b[0m \u001b[32m296.5/296.5 kB\u001b[0m \u001b[31m6.5 MB/s\u001b[0m eta \u001b[36m0:00:00\u001b[0ma \u001b[36m0:00:01\u001b[0m\n",
      "\u001b[?25hCollecting phik<0.13,>=0.11.1\n",
      "  Downloading phik-0.12.3-cp310-cp310-macosx_10_13_x86_64.whl (652 kB)\n",
      "\u001b[2K     \u001b[90m━━━━━━━━━━━━━━━━━━━━━━━━━━━━━━━━━━━━━━━\u001b[0m \u001b[32m652.9/652.9 kB\u001b[0m \u001b[31m6.7 MB/s\u001b[0m eta \u001b[36m0:00:00\u001b[0ma \u001b[36m0:00:01\u001b[0m\n",
      "\u001b[?25hRequirement already satisfied: pillow in /Library/anaconda3/lib/python3.10/site-packages (from imagehash==4.3.1->ydata-profiling->pandas-profiling) (9.4.0)\n",
      "Requirement already satisfied: PyWavelets in /Library/anaconda3/lib/python3.10/site-packages (from imagehash==4.3.1->ydata-profiling->pandas-profiling) (1.4.1)\n",
      "Requirement already satisfied: attrs>=19.3.0 in /Library/anaconda3/lib/python3.10/site-packages (from visions[type_image_path]==0.7.5->ydata-profiling->pandas-profiling) (22.1.0)\n",
      "Collecting tangled-up-in-unicode>=0.0.4\n",
      "  Downloading tangled_up_in_unicode-0.2.0-py3-none-any.whl (4.7 MB)\n",
      "\u001b[2K     \u001b[90m━━━━━━━━━━━━━━━━━━━━━━━━━━━━━━━━━━━━━━━━\u001b[0m \u001b[32m4.7/4.7 MB\u001b[0m \u001b[31m8.5 MB/s\u001b[0m eta \u001b[36m0:00:00\u001b[0ma \u001b[36m0:00:01\u001b[0m\n",
      "\u001b[?25hRequirement already satisfied: networkx>=2.4 in /Library/anaconda3/lib/python3.10/site-packages (from visions[type_image_path]==0.7.5->ydata-profiling->pandas-profiling) (2.8.4)\n",
      "Requirement already satisfied: MarkupSafe>=2.0 in /Library/anaconda3/lib/python3.10/site-packages (from jinja2<3.2,>=2.11.1->ydata-profiling->pandas-profiling) (2.1.1)\n",
      "Requirement already satisfied: packaging>=20.0 in /Library/anaconda3/lib/python3.10/site-packages (from matplotlib<3.7,>=3.2->ydata-profiling->pandas-profiling) (22.0)\n",
      "Requirement already satisfied: python-dateutil>=2.7 in /Library/anaconda3/lib/python3.10/site-packages (from matplotlib<3.7,>=3.2->ydata-profiling->pandas-profiling) (2.8.2)\n",
      "Requirement already satisfied: pyparsing>=2.2.1 in /Library/anaconda3/lib/python3.10/site-packages (from matplotlib<3.7,>=3.2->ydata-profiling->pandas-profiling) (3.0.9)\n",
      "Requirement already satisfied: contourpy>=1.0.1 in /Library/anaconda3/lib/python3.10/site-packages (from matplotlib<3.7,>=3.2->ydata-profiling->pandas-profiling) (1.0.5)\n",
      "Requirement already satisfied: kiwisolver>=1.0.1 in /Library/anaconda3/lib/python3.10/site-packages (from matplotlib<3.7,>=3.2->ydata-profiling->pandas-profiling) (1.4.4)\n",
      "Requirement already satisfied: fonttools>=4.22.0 in /Library/anaconda3/lib/python3.10/site-packages (from matplotlib<3.7,>=3.2->ydata-profiling->pandas-profiling) (4.25.0)\n",
      "Requirement already satisfied: cycler>=0.10 in /Library/anaconda3/lib/python3.10/site-packages (from matplotlib<3.7,>=3.2->ydata-profiling->pandas-profiling) (0.11.0)\n",
      "Requirement already satisfied: pytz>=2020.1 in /Library/anaconda3/lib/python3.10/site-packages (from pandas!=1.4.0,<1.6,>1.1->ydata-profiling->pandas-profiling) (2022.7)\n",
      "Requirement already satisfied: joblib>=0.14.1 in /Library/anaconda3/lib/python3.10/site-packages (from phik<0.13,>=0.11.1->ydata-profiling->pandas-profiling) (1.1.1)\n",
      "Requirement already satisfied: typing-extensions>=4.2.0 in /Library/anaconda3/lib/python3.10/site-packages (from pydantic<1.11,>=1.8.1->ydata-profiling->pandas-profiling) (4.4.0)\n",
      "Requirement already satisfied: urllib3<1.27,>=1.21.1 in /Library/anaconda3/lib/python3.10/site-packages (from requests<2.29,>=2.24.0->ydata-profiling->pandas-profiling) (1.26.14)\n",
      "Requirement already satisfied: charset-normalizer<3,>=2 in /Library/anaconda3/lib/python3.10/site-packages (from requests<2.29,>=2.24.0->ydata-profiling->pandas-profiling) (2.0.4)\n",
      "Requirement already satisfied: idna<4,>=2.5 in /Library/anaconda3/lib/python3.10/site-packages (from requests<2.29,>=2.24.0->ydata-profiling->pandas-profiling) (3.4)\n",
      "Requirement already satisfied: certifi>=2017.4.17 in /Library/anaconda3/lib/python3.10/site-packages (from requests<2.29,>=2.24.0->ydata-profiling->pandas-profiling) (2022.12.7)\n",
      "Requirement already satisfied: patsy>=0.5.2 in /Library/anaconda3/lib/python3.10/site-packages (from statsmodels<0.14,>=0.13.2->ydata-profiling->pandas-profiling) (0.5.3)\n",
      "Requirement already satisfied: six in /Library/anaconda3/lib/python3.10/site-packages (from patsy>=0.5.2->statsmodels<0.14,>=0.13.2->ydata-profiling->pandas-profiling) (1.16.0)\n",
      "Building wheels for collected packages: htmlmin\n",
      "  Building wheel for htmlmin (setup.py) ... \u001b[?25ldone\n",
      "\u001b[?25h  Created wheel for htmlmin: filename=htmlmin-0.1.12-py3-none-any.whl size=27081 sha256=7dd927b7316cacbeab64b0eed9fa9f83046ec0a06617bd94140a43459bad3c09\n",
      "  Stored in directory: /Users/abhinavpratap/Library/Caches/pip/wheels/ea/1c/a8/5cec3479cd45136a7111e2d96aac299b219b199c411665250b\n",
      "Successfully built htmlmin\n",
      "Installing collected packages: htmlmin, typeguard, tangled-up-in-unicode, scipy, pydantic, multimethod, matplotlib, imagehash, visions, phik, ydata-profiling, pandas-profiling\n",
      "  Attempting uninstall: scipy\n",
      "    Found existing installation: scipy 1.10.0\n",
      "    Uninstalling scipy-1.10.0:\n",
      "      Successfully uninstalled scipy-1.10.0\n",
      "  Attempting uninstall: matplotlib\n",
      "    Found existing installation: matplotlib 3.7.0\n",
      "    Uninstalling matplotlib-3.7.0:\n",
      "      Successfully uninstalled matplotlib-3.7.0\n"
     ]
    },
    {
     "name": "stdout",
     "output_type": "stream",
     "text": [
      "\u001b[31mERROR: pip's dependency resolver does not currently take into account all the packages that are installed. This behaviour is the source of the following dependency conflicts.\r\n",
      "gensim 4.3.0 requires FuzzyTM>=0.4.0, which is not installed.\u001b[0m\u001b[31m\r\n",
      "\u001b[0mSuccessfully installed htmlmin-0.1.12 imagehash-4.3.1 matplotlib-3.6.3 multimethod-1.9.1 pandas-profiling-3.6.6 phik-0.12.3 pydantic-1.10.7 scipy-1.9.3 tangled-up-in-unicode-0.2.0 typeguard-2.13.3 visions-0.7.5 ydata-profiling-4.1.2\r\n"
     ]
    }
   ],
   "source": [
    "!pip install pandas-profiling"
   ]
  },
  {
   "cell_type": "markdown",
   "id": "9c2ca492",
   "metadata": {},
   "source": [
    "## Usage\n",
    "\n",
    "Pandas Profiling can be used to generate reports on any pandas dataframe. To generate a report, simply import the library and call the profile_report() function, passing in the dataframe as a parameter:"
   ]
  },
  {
   "cell_type": "code",
   "execution_count": 9,
   "id": "6da163fc",
   "metadata": {},
   "outputs": [],
   "source": [
    "import pandas as pd\n",
    "import pandas_profiling as pp"
   ]
  },
  {
   "cell_type": "code",
   "execution_count": 8,
   "id": "c259cb7c",
   "metadata": {},
   "outputs": [],
   "source": [
    "df = pd.read_csv('train.csv')"
   ]
  },
  {
   "cell_type": "code",
   "execution_count": 3,
   "id": "d2f863d2",
   "metadata": {},
   "outputs": [
    {
     "data": {
      "text/html": [
       "<div>\n",
       "<style scoped>\n",
       "    .dataframe tbody tr th:only-of-type {\n",
       "        vertical-align: middle;\n",
       "    }\n",
       "\n",
       "    .dataframe tbody tr th {\n",
       "        vertical-align: top;\n",
       "    }\n",
       "\n",
       "    .dataframe thead th {\n",
       "        text-align: right;\n",
       "    }\n",
       "</style>\n",
       "<table border=\"1\" class=\"dataframe\">\n",
       "  <thead>\n",
       "    <tr style=\"text-align: right;\">\n",
       "      <th></th>\n",
       "      <th>PassengerId</th>\n",
       "      <th>Survived</th>\n",
       "      <th>Pclass</th>\n",
       "      <th>Name</th>\n",
       "      <th>Sex</th>\n",
       "      <th>Age</th>\n",
       "      <th>SibSp</th>\n",
       "      <th>Parch</th>\n",
       "      <th>Ticket</th>\n",
       "      <th>Fare</th>\n",
       "      <th>Cabin</th>\n",
       "      <th>Embarked</th>\n",
       "    </tr>\n",
       "  </thead>\n",
       "  <tbody>\n",
       "    <tr>\n",
       "      <th>0</th>\n",
       "      <td>1</td>\n",
       "      <td>0</td>\n",
       "      <td>3</td>\n",
       "      <td>Braund, Mr. Owen Harris</td>\n",
       "      <td>male</td>\n",
       "      <td>22.0</td>\n",
       "      <td>1</td>\n",
       "      <td>0</td>\n",
       "      <td>A/5 21171</td>\n",
       "      <td>7.2500</td>\n",
       "      <td>NaN</td>\n",
       "      <td>S</td>\n",
       "    </tr>\n",
       "    <tr>\n",
       "      <th>1</th>\n",
       "      <td>2</td>\n",
       "      <td>1</td>\n",
       "      <td>1</td>\n",
       "      <td>Cumings, Mrs. John Bradley (Florence Briggs Th...</td>\n",
       "      <td>female</td>\n",
       "      <td>38.0</td>\n",
       "      <td>1</td>\n",
       "      <td>0</td>\n",
       "      <td>PC 17599</td>\n",
       "      <td>71.2833</td>\n",
       "      <td>C85</td>\n",
       "      <td>C</td>\n",
       "    </tr>\n",
       "    <tr>\n",
       "      <th>2</th>\n",
       "      <td>3</td>\n",
       "      <td>1</td>\n",
       "      <td>3</td>\n",
       "      <td>Heikkinen, Miss. Laina</td>\n",
       "      <td>female</td>\n",
       "      <td>26.0</td>\n",
       "      <td>0</td>\n",
       "      <td>0</td>\n",
       "      <td>STON/O2. 3101282</td>\n",
       "      <td>7.9250</td>\n",
       "      <td>NaN</td>\n",
       "      <td>S</td>\n",
       "    </tr>\n",
       "    <tr>\n",
       "      <th>3</th>\n",
       "      <td>4</td>\n",
       "      <td>1</td>\n",
       "      <td>1</td>\n",
       "      <td>Futrelle, Mrs. Jacques Heath (Lily May Peel)</td>\n",
       "      <td>female</td>\n",
       "      <td>35.0</td>\n",
       "      <td>1</td>\n",
       "      <td>0</td>\n",
       "      <td>113803</td>\n",
       "      <td>53.1000</td>\n",
       "      <td>C123</td>\n",
       "      <td>S</td>\n",
       "    </tr>\n",
       "    <tr>\n",
       "      <th>4</th>\n",
       "      <td>5</td>\n",
       "      <td>0</td>\n",
       "      <td>3</td>\n",
       "      <td>Allen, Mr. William Henry</td>\n",
       "      <td>male</td>\n",
       "      <td>35.0</td>\n",
       "      <td>0</td>\n",
       "      <td>0</td>\n",
       "      <td>373450</td>\n",
       "      <td>8.0500</td>\n",
       "      <td>NaN</td>\n",
       "      <td>S</td>\n",
       "    </tr>\n",
       "  </tbody>\n",
       "</table>\n",
       "</div>"
      ],
      "text/plain": [
       "   PassengerId  Survived  Pclass  \\\n",
       "0            1         0       3   \n",
       "1            2         1       1   \n",
       "2            3         1       3   \n",
       "3            4         1       1   \n",
       "4            5         0       3   \n",
       "\n",
       "                                                Name     Sex   Age  SibSp  \\\n",
       "0                            Braund, Mr. Owen Harris    male  22.0      1   \n",
       "1  Cumings, Mrs. John Bradley (Florence Briggs Th...  female  38.0      1   \n",
       "2                             Heikkinen, Miss. Laina  female  26.0      0   \n",
       "3       Futrelle, Mrs. Jacques Heath (Lily May Peel)  female  35.0      1   \n",
       "4                           Allen, Mr. William Henry    male  35.0      0   \n",
       "\n",
       "   Parch            Ticket     Fare Cabin Embarked  \n",
       "0      0         A/5 21171   7.2500   NaN        S  \n",
       "1      0          PC 17599  71.2833   C85        C  \n",
       "2      0  STON/O2. 3101282   7.9250   NaN        S  \n",
       "3      0            113803  53.1000  C123        S  \n",
       "4      0            373450   8.0500   NaN        S  "
      ]
     },
     "execution_count": 3,
     "metadata": {},
     "output_type": "execute_result"
    }
   ],
   "source": [
    "df.head()"
   ]
  },
  {
   "cell_type": "code",
   "execution_count": 10,
   "id": "e82fd2f8",
   "metadata": {},
   "outputs": [],
   "source": [
    "# Generate a profile report\n",
    "report = pp.ProfileReport(df)"
   ]
  },
  {
   "cell_type": "code",
   "execution_count": 11,
   "id": "aa6c318e",
   "metadata": {},
   "outputs": [
    {
     "data": {
      "application/vnd.jupyter.widget-view+json": {
       "model_id": "4b0551c1aa1942ceb982e01c5d2427ee",
       "version_major": 2,
       "version_minor": 0
      },
      "text/plain": [
       "Summarize dataset:   0%|          | 0/5 [00:00<?, ?it/s]"
      ]
     },
     "metadata": {},
     "output_type": "display_data"
    },
    {
     "data": {
      "application/vnd.jupyter.widget-view+json": {
       "model_id": "262426e2f1d148668f52951cd5d87217",
       "version_major": 2,
       "version_minor": 0
      },
      "text/plain": [
       "Generate report structure:   0%|          | 0/1 [00:00<?, ?it/s]"
      ]
     },
     "metadata": {},
     "output_type": "display_data"
    },
    {
     "data": {
      "application/vnd.jupyter.widget-view+json": {
       "model_id": "3dddea120e5c4ef9ad7513e3ae6c00e2",
       "version_major": 2,
       "version_minor": 0
      },
      "text/plain": [
       "Render HTML:   0%|          | 0/1 [00:00<?, ?it/s]"
      ]
     },
     "metadata": {},
     "output_type": "display_data"
    },
    {
     "data": {
      "application/vnd.jupyter.widget-view+json": {
       "model_id": "b4c655bd67cf484e85e8d594d06e98d8",
       "version_major": 2,
       "version_minor": 0
      },
      "text/plain": [
       "Export report to file:   0%|          | 0/1 [00:00<?, ?it/s]"
      ]
     },
     "metadata": {},
     "output_type": "display_data"
    }
   ],
   "source": [
    "# Save the report as an HTML file\n",
    "report.to_file('report.html')"
   ]
  },
  {
   "cell_type": "markdown",
   "id": "1abfc152",
   "metadata": {},
   "source": [
    "## Features\n",
    "\n",
    "The Pandas Profiling report includes the following sections: <br>\n",
    "\n",
    "### • Overview:\n",
    "This section provides general information about the dataset, such as the number of rows and columns, memory usage, and the number of missing values. <br>\n",
    "### • Variables:\n",
    "This section provides detailed information on each variable in the dataset, including descriptive statistics, distribution of values, and correlation analysis. <br>\n",
    "### • Interactions:\n",
    "This section provides an analysis of the relationships between variables, including correlation analysis, scatter plots, and heat maps. <br>\n",
    "Missing Values: This section provides an overview of the missing values in the dataset, including a heatmap and a summary of the percentage of missing values per variable. <br>\n",
    "### • Sample:\n",
    "This section provides a sample of the dataset, allowing you to see a preview of the data. <br>\n",
    "### • Warnings: \n",
    "This section provides a list of potential issues or anomalies in the data, such as highly correlated variables or variables with a high percentage of missing values."
   ]
  },
  {
   "cell_type": "markdown",
   "id": "3593523f",
   "metadata": {},
   "source": [
    "## Conclusion\n",
    "\n",
    "Pandas Profiling is a powerful tool for quickly and efficiently performing EDA on large datasets. It provides a comprehensive report that includes detailed information on each variable, interactions between variables, and missing values. The interactive visualizations and customizable options make it easy to identify patterns and relationships in the data."
   ]
  },
  {
   "cell_type": "code",
   "execution_count": null,
   "id": "7008f9fb",
   "metadata": {},
   "outputs": [],
   "source": []
  }
 ],
 "metadata": {
  "kernelspec": {
   "display_name": "Python 3 (ipykernel)",
   "language": "python",
   "name": "python3"
  },
  "language_info": {
   "codemirror_mode": {
    "name": "ipython",
    "version": 3
   },
   "file_extension": ".py",
   "mimetype": "text/x-python",
   "name": "python",
   "nbconvert_exporter": "python",
   "pygments_lexer": "ipython3",
   "version": "3.10.9"
  }
 },
 "nbformat": 4,
 "nbformat_minor": 5
}
