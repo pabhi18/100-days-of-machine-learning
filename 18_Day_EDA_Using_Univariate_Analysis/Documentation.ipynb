{
 "cells": [
  {
   "cell_type": "markdown",
   "id": "2e21ac9a",
   "metadata": {},
   "source": [
    "# Day 18: Exploratory Data Analysis (EDA) Using Univariate Analysis\n",
    "\n",
    "In this documentation, I will cover the basics of Exploratory Data Analysis (EDA) using Univariate Analysis. EDA is an important step in the data analysis process that allows us to understand the characteristics of the data we are working with.\n",
    "\n",
    "## What is EDA?\n",
    "Exploratory Data Analysis (EDA) is the process of exploring and analyzing data sets to summarize their main characteristics.With EDA, you can see patterns, trends, and relationships between the different pieces of data. This helps you to understand what the data is all about and make better decisions based on it.\n",
    "\n",
    "\n",
    "## Types of EDA\n",
    "There are two main types of EDA:\n",
    "\n",
    "### Univariate Analysis: \n",
    "Univariate Analysis involves analyzing one variable at a time to understand its distribution, central tendency, and variability. This type of analysis is useful for understanding the characteristics of individual variables, such as their range, mode, and mean.\n",
    "\n",
    "### Bivariate Analysis:\n",
    "Bivariate analysis is an EDA technique used to analyze two variables to determine if there is a relationship between them. This type of analysis is useful when trying to identify patterns or relationships between two variables.\n",
    "\n",
    "### Multivariate Analysis\n",
    "Multivariate Analysis, involves analyzing multiple variables simultaneously to understand the relationships between them. This type of analysis is useful for identifying patterns and correlations between variables, as well as detecting outliers and anomalies.\n",
    "<img src=\"EDA-Types.png\" height=\"700\">\n",
    "\n",
    "#### In this documentation, I will focus on the Univariate Analysis method.\n",
    "\n",
    "\n",
    "## Types of Data\n",
    "There are two main types of data: categorical data and numerical data.\n",
    "\n",
    "### Categorical Data\n",
    "Categorical data is data that can be divided into categories. Examples of categorical data include gender, race, and type of car. We can use univariate analysis to calculate the frequency of each category and to visualize the distribution of the data.\n",
    "\n",
    "### Numerical Data\n",
    "Numerical data is data that consists of numbers. Examples of numerical data include height, weight, and age. We can use univariate analysis to calculate the mean, median, and mode of the data, as well as to visualize the distribution of the data using histograms, box plots, or density plots."
   ]
  },
  {
   "cell_type": "markdown",
   "id": "1189f8a9",
   "metadata": {},
   "source": [
    "## Univariate Analysis\n",
    "\n",
    "In this example, we will perform univariate analysis on a dataset."
   ]
  },
  {
   "cell_type": "code",
   "execution_count": 4,
   "id": "69a8b094",
   "metadata": {},
   "outputs": [],
   "source": [
    "import pandas as pd\n",
    "import seaborn as sns\n",
    "import matplotlib.pyplot as plt"
   ]
  },
  {
   "cell_type": "code",
   "execution_count": 8,
   "id": "c295e9c8",
   "metadata": {},
   "outputs": [],
   "source": [
    "df = pd.read_csv('train.csv')"
   ]
  },
  {
   "cell_type": "code",
   "execution_count": 6,
   "id": "10780db0",
   "metadata": {},
   "outputs": [
    {
     "data": {
      "text/html": [
       "<div>\n",
       "<style scoped>\n",
       "    .dataframe tbody tr th:only-of-type {\n",
       "        vertical-align: middle;\n",
       "    }\n",
       "\n",
       "    .dataframe tbody tr th {\n",
       "        vertical-align: top;\n",
       "    }\n",
       "\n",
       "    .dataframe thead th {\n",
       "        text-align: right;\n",
       "    }\n",
       "</style>\n",
       "<table border=\"1\" class=\"dataframe\">\n",
       "  <thead>\n",
       "    <tr style=\"text-align: right;\">\n",
       "      <th></th>\n",
       "      <th>PassengerId</th>\n",
       "      <th>Survived</th>\n",
       "      <th>Pclass</th>\n",
       "      <th>Name</th>\n",
       "      <th>Sex</th>\n",
       "      <th>Age</th>\n",
       "      <th>SibSp</th>\n",
       "      <th>Parch</th>\n",
       "      <th>Ticket</th>\n",
       "      <th>Fare</th>\n",
       "      <th>Cabin</th>\n",
       "      <th>Embarked</th>\n",
       "    </tr>\n",
       "  </thead>\n",
       "  <tbody>\n",
       "    <tr>\n",
       "      <th>0</th>\n",
       "      <td>1</td>\n",
       "      <td>0</td>\n",
       "      <td>3</td>\n",
       "      <td>Braund, Mr. Owen Harris</td>\n",
       "      <td>male</td>\n",
       "      <td>22.0</td>\n",
       "      <td>1</td>\n",
       "      <td>0</td>\n",
       "      <td>A/5 21171</td>\n",
       "      <td>7.2500</td>\n",
       "      <td>NaN</td>\n",
       "      <td>S</td>\n",
       "    </tr>\n",
       "    <tr>\n",
       "      <th>1</th>\n",
       "      <td>2</td>\n",
       "      <td>1</td>\n",
       "      <td>1</td>\n",
       "      <td>Cumings, Mrs. John Bradley (Florence Briggs Th...</td>\n",
       "      <td>female</td>\n",
       "      <td>38.0</td>\n",
       "      <td>1</td>\n",
       "      <td>0</td>\n",
       "      <td>PC 17599</td>\n",
       "      <td>71.2833</td>\n",
       "      <td>C85</td>\n",
       "      <td>C</td>\n",
       "    </tr>\n",
       "    <tr>\n",
       "      <th>2</th>\n",
       "      <td>3</td>\n",
       "      <td>1</td>\n",
       "      <td>3</td>\n",
       "      <td>Heikkinen, Miss. Laina</td>\n",
       "      <td>female</td>\n",
       "      <td>26.0</td>\n",
       "      <td>0</td>\n",
       "      <td>0</td>\n",
       "      <td>STON/O2. 3101282</td>\n",
       "      <td>7.9250</td>\n",
       "      <td>NaN</td>\n",
       "      <td>S</td>\n",
       "    </tr>\n",
       "    <tr>\n",
       "      <th>3</th>\n",
       "      <td>4</td>\n",
       "      <td>1</td>\n",
       "      <td>1</td>\n",
       "      <td>Futrelle, Mrs. Jacques Heath (Lily May Peel)</td>\n",
       "      <td>female</td>\n",
       "      <td>35.0</td>\n",
       "      <td>1</td>\n",
       "      <td>0</td>\n",
       "      <td>113803</td>\n",
       "      <td>53.1000</td>\n",
       "      <td>C123</td>\n",
       "      <td>S</td>\n",
       "    </tr>\n",
       "    <tr>\n",
       "      <th>4</th>\n",
       "      <td>5</td>\n",
       "      <td>0</td>\n",
       "      <td>3</td>\n",
       "      <td>Allen, Mr. William Henry</td>\n",
       "      <td>male</td>\n",
       "      <td>35.0</td>\n",
       "      <td>0</td>\n",
       "      <td>0</td>\n",
       "      <td>373450</td>\n",
       "      <td>8.0500</td>\n",
       "      <td>NaN</td>\n",
       "      <td>S</td>\n",
       "    </tr>\n",
       "  </tbody>\n",
       "</table>\n",
       "</div>"
      ],
      "text/plain": [
       "   PassengerId  Survived  Pclass  \\\n",
       "0            1         0       3   \n",
       "1            2         1       1   \n",
       "2            3         1       3   \n",
       "3            4         1       1   \n",
       "4            5         0       3   \n",
       "\n",
       "                                                Name     Sex   Age  SibSp  \\\n",
       "0                            Braund, Mr. Owen Harris    male  22.0      1   \n",
       "1  Cumings, Mrs. John Bradley (Florence Briggs Th...  female  38.0      1   \n",
       "2                             Heikkinen, Miss. Laina  female  26.0      0   \n",
       "3       Futrelle, Mrs. Jacques Heath (Lily May Peel)  female  35.0      1   \n",
       "4                           Allen, Mr. William Henry    male  35.0      0   \n",
       "\n",
       "   Parch            Ticket     Fare Cabin Embarked  \n",
       "0      0         A/5 21171   7.2500   NaN        S  \n",
       "1      0          PC 17599  71.2833   C85        C  \n",
       "2      0  STON/O2. 3101282   7.9250   NaN        S  \n",
       "3      0            113803  53.1000  C123        S  \n",
       "4      0            373450   8.0500   NaN        S  "
      ]
     },
     "execution_count": 6,
     "metadata": {},
     "output_type": "execute_result"
    }
   ],
   "source": [
    "df.head()"
   ]
  },
  {
   "cell_type": "markdown",
   "id": "85526bb0",
   "metadata": {},
   "source": [
    "### 1. Categorical Data"
   ]
  },
  {
   "cell_type": "markdown",
   "id": "f66fc2c9",
   "metadata": {},
   "source": [
    "#### a. Countplot \n",
    "It is a type of plot in which the data is displayed in bars and the height of each bar represents the count or frequency of observations in each category. "
   ]
  },
  {
   "cell_type": "code",
   "execution_count": 16,
   "id": "d2ad2701",
   "metadata": {},
   "outputs": [
    {
     "data": {
      "text/plain": [
       "<Axes: xlabel='Survived', ylabel='count'>"
      ]
     },
     "execution_count": 16,
     "metadata": {},
     "output_type": "execute_result"
    },
    {
     "data": {
      "image/png": "[encoded data removed]",
      "text/plain": [
       "<Figure size 640x480 with 1 Axes>"
      ]
     },
     "metadata": {},
     "output_type": "display_data"
    }
   ],
   "source": [
    "sns.countplot(x= 'Survived', data = df )"
   ]
  },
  {
   "cell_type": "markdown",
   "id": "87450f2a",
   "metadata": {},
   "source": [
    "#### b. PieChart\n",
    "It is a graphical representation of data in a circular form where the size of each slice is proportional to the quantity it represents."
   ]
  },
  {
   "cell_type": "code",
   "execution_count": 24,
   "id": "6d52ef29",
   "metadata": {},
   "outputs": [
    {
     "data": {
      "text/plain": [
       "<Axes: ylabel='Sex'>"
      ]
     },
     "execution_count": 24,
     "metadata": {},
     "output_type": "execute_result"
    },
    {
     "data": {
      "image/png": "[encoded data removed]",
      "text/plain": [
       "<Figure size 640x480 with 1 Axes>"
      ]
     },
     "metadata": {},
     "output_type": "display_data"
    }
   ],
   "source": [
    "df['Sex'].value_counts().plot(kind='pie', autopct='%.3f')"
   ]
  },
  {
   "cell_type": "markdown",
   "id": "ed8a3667",
   "metadata": {},
   "source": [
    "### 2. Numerical Data"
   ]
  },
  {
   "cell_type": "markdown",
   "id": "2e556a9d",
   "metadata": {},
   "source": [
    "#### a. Histogram\n",
    "It is a graphical representation of the distribution of numerical data. It consists of a set of rectangles, where each rectangle represents a group or \"bin\" of data values, and the height of the rectangle represents the frequency or count of data values in that bin."
   ]
  },
  {
   "cell_type": "code",
   "execution_count": 27,
   "id": "8aa5a8e2",
   "metadata": {},
   "outputs": [
    {
     "data": {
      "text/plain": [
       "(array([ 54.,  46., 177., 169., 118.,  70.,  45.,  24.,   9.,   2.]),\n",
       " array([ 0.42 ,  8.378, 16.336, 24.294, 32.252, 40.21 , 48.168, 56.126,\n",
       "        64.084, 72.042, 80.   ]),\n",
       " <BarContainer object of 10 artists>)"
      ]
     },
     "execution_count": 27,
     "metadata": {},
     "output_type": "execute_result"
    },
    {
     "data": {
      "image/png": "[encoded data removed]",
      "text/plain": [
       "<Figure size 640x480 with 1 Axes>"
      ]
     },
     "metadata": {},
     "output_type": "display_data"
    }
   ],
   "source": [
    "plt.hist(df['Age'])"
   ]
  },
  {
   "cell_type": "markdown",
   "id": "526e47df",
   "metadata": {},
   "source": [
    "#### b. Distplot \n",
    "It is a type of visualization tool used in exploratory data analysis to plot the distribution of a numerical variable. It is a combination of a histogram and a density plot that shows the distribution of the data along with its density."
   ]
  },
  {
   "cell_type": "code",
   "execution_count": 31,
   "id": "979248a3",
   "metadata": {},
   "outputs": [
    {
     "name": "stderr",
     "output_type": "stream",
     "text": [
      "/var/folders/s1/prjs0rvs11x47frsjkk0xwyc0000gn/T/ipykernel_2741/3255828239.py:1: UserWarning: \n",
      "\n",
      "`distplot` is a deprecated function and will be removed in seaborn v0.14.0.\n",
      "\n",
      "Please adapt your code to use either `displot` (a figure-level function with\n",
      "similar flexibility) or `histplot` (an axes-level function for histograms).\n",
      "\n",
      "For a guide to updating your code to use the new functions, please see\n",
      "https://gist.github.com/mwaskom/de44147ed2974457ad6372750bbe5751\n",
      "\n",
      "  sns.distplot(df['Age'])\n"
     ]
    },
    {
     "data": {
      "text/plain": [
       "<Axes: xlabel='Age', ylabel='Density'>"
      ]
     },
     "execution_count": 31,
     "metadata": {},
     "output_type": "execute_result"
    },
    {
     "data": {
      "image/png": "[encoded data removed]",
      "text/plain": [
       "<Figure size 640x480 with 1 Axes>"
      ]
     },
     "metadata": {},
     "output_type": "display_data"
    }
   ],
   "source": [
    "sns.distplot(df['Age'])"
   ]
  },
  {
   "cell_type": "markdown",
   "id": "4fe05802",
   "metadata": {},
   "source": [
    "#### c. Boxplot\n",
    "It summarize the distribution of numerical data using five values: minimum, first quartile, median, third quartile, and maximum. They are useful for identifying the range, skewness, and outliers in the data, and are commonly used in statistical analysis to compare distributions between groups or over time."
   ]
  },
  {
   "cell_type": "code",
   "execution_count": 37,
   "id": "0c358869",
   "metadata": {},
   "outputs": [
    {
     "data": {
      "text/plain": [
       "<Axes: >"
      ]
     },
     "execution_count": 37,
     "metadata": {},
     "output_type": "execute_result"
    },
    {
     "data": {
      "image/png": "[encoded data removed]",
      "text/plain": [
       "<Figure size 640x480 with 1 Axes>"
      ]
     },
     "metadata": {},
     "output_type": "display_data"
    }
   ],
   "source": [
    " sns.boxplot(df['Age'])"
   ]
  },
  {
   "cell_type": "code",
   "execution_count": 38,
   "id": "23240d3b",
   "metadata": {},
   "outputs": [
    {
     "data": {
      "text/plain": [
       "0.42"
      ]
     },
     "execution_count": 38,
     "metadata": {},
     "output_type": "execute_result"
    }
   ],
   "source": [
    "df['Age'].min()"
   ]
  },
  {
   "cell_type": "code",
   "execution_count": 39,
   "id": "baeec105",
   "metadata": {},
   "outputs": [
    {
     "data": {
      "text/plain": [
       "80.0"
      ]
     },
     "execution_count": 39,
     "metadata": {},
     "output_type": "execute_result"
    }
   ],
   "source": [
    "df['Age'].max()"
   ]
  },
  {
   "cell_type": "code",
   "execution_count": 40,
   "id": "433e67af",
   "metadata": {},
   "outputs": [
    {
     "data": {
      "text/plain": [
       "29.69911764705882"
      ]
     },
     "execution_count": 40,
     "metadata": {},
     "output_type": "execute_result"
    }
   ],
   "source": [
    "df['Age'].mean()"
   ]
  },
  {
   "cell_type": "code",
   "execution_count": 41,
   "id": "3659df83",
   "metadata": {},
   "outputs": [
    {
     "data": {
      "text/plain": [
       "0.38910778230082704"
      ]
     },
     "execution_count": 41,
     "metadata": {},
     "output_type": "execute_result"
    }
   ],
   "source": [
    "df['Age'].skew()"
   ]
  },
  {
   "cell_type": "markdown",
   "id": "7c9ff567",
   "metadata": {},
   "source": [
    "#### In this example, we have demonstrated how to perform univariate analysis on a dataset "
   ]
  },
  {
   "cell_type": "code",
   "execution_count": null,
   "id": "30c327fd",
   "metadata": {},
   "outputs": [],
   "source": []
  }
 ],
 "metadata": {
  "kernelspec": {
   "display_name": "Python 3 (ipykernel)",
   "language": "python",
   "name": "python3"
  },
  "language_info": {
   "codemirror_mode": {
    "name": "ipython",
    "version": 3
   },
   "file_extension": ".py",
   "mimetype": "text/x-python",
   "name": "python",
   "nbconvert_exporter": "python",
   "pygments_lexer": "ipython3",
   "version": "3.10.9"
  }
 },
 "nbformat": 4,
 "nbformat_minor": 5
}
