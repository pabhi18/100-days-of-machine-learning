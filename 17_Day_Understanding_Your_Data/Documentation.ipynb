{
 "cells": [
  {
   "cell_type": "markdown",
   "id": "41828189",
   "metadata": {},
   "source": [
    "# Day 16: Understanding Your Data"
   ]
  },
  {
   "cell_type": "markdown",
   "id": "391611f1",
   "metadata": {},
   "source": [
    "When working with a dataset, it is important to understand the data thoroughly before diving into analysis. Here are some basic questions that you should ask about your data: <br>\n",
    "\n",
    "1. How big is the data?  <br>\n",
    "2. How does the data look like? <br>\n",
    "3. What is the data type of cols? <br>\n",
    "4. Are there any missing values? <br>\n",
    "5. How does the data look mathematically? <br>\n",
    "6. Are there duplicate values? <br>\n",
    "7. How is the correlation between cols? <br>\n",
    "\n",
    "To answer these questions, you can use various pandas functions. Let's see how to use them:"
   ]
  },
  {
   "cell_type": "code",
   "execution_count": 2,
   "id": "77cea1b4",
   "metadata": {},
   "outputs": [],
   "source": [
    "import pandas as pd"
   ]
  },
  {
   "cell_type": "markdown",
   "id": "d0087f3b",
   "metadata": {},
   "source": [
    "## 1. How big is the data?\n",
    "\n",
    "This question will help you understand the number of observations and features in the dataset."
   ]
  },
  {
   "cell_type": "code",
   "execution_count": 5,
   "id": "6b2c2e9f",
   "metadata": {},
   "outputs": [
    {
     "name": "stdout",
     "output_type": "stream",
     "text": [
      "(891, 12)\n"
     ]
    }
   ],
   "source": [
    "df = pd.read_csv('my_dataset.csv')\n",
    "print(df.shape)"
   ]
  },
  {
   "cell_type": "markdown",
   "id": "3e1ddd80",
   "metadata": {},
   "source": [
    "## 2. How does the data look like?\n",
    "This question will help you understand what the dataset looks like and what kind of values are present in it."
   ]
  },
  {
   "cell_type": "code",
   "execution_count": 6,
   "id": "c74e29fb",
   "metadata": {},
   "outputs": [
    {
     "name": "stdout",
     "output_type": "stream",
     "text": [
      "     PassengerId  Survived  Pclass                             Name     Sex  \\\n",
      "475          476         0       1      Clifford, Mr. George Quincy    male   \n",
      "869          870         1       3  Johnson, Master. Harold Theodor    male   \n",
      "692          693         1       3                     Lam, Mr. Ali    male   \n",
      "866          867         1       2     Duran y More, Miss. Asuncion  female   \n",
      "214          215         0       3              Kiernan, Mr. Philip    male   \n",
      "\n",
      "      Age  SibSp  Parch         Ticket     Fare Cabin Embarked  \n",
      "475   NaN      0      0         110465  52.0000   A14        S  \n",
      "869   4.0      1      1         347742  11.1333   NaN        S  \n",
      "692   NaN      0      0           1601  56.4958   NaN        S  \n",
      "866  27.0      1      0  SC/PARIS 2149  13.8583   NaN        C  \n",
      "214   NaN      1      0         367229   7.7500   NaN        Q  \n"
     ]
    }
   ],
   "source": [
    "df = pd.read_csv('my_dataset.csv')\n",
    "print(df.sample(5))"
   ]
  },
  {
   "cell_type": "markdown",
   "id": "5875f3f4",
   "metadata": {},
   "source": [
    "## 3. What is the data type of cols?\n",
    "This question will help you understand the data types of each feature in the dataset."
   ]
  },
  {
   "cell_type": "code",
   "execution_count": 7,
   "id": "052c5fc1",
   "metadata": {},
   "outputs": [
    {
     "name": "stdout",
     "output_type": "stream",
     "text": [
      "<class 'pandas.core.frame.DataFrame'>\n",
      "RangeIndex: 891 entries, 0 to 890\n",
      "Data columns (total 12 columns):\n",
      " #   Column       Non-Null Count  Dtype  \n",
      "---  ------       --------------  -----  \n",
      " 0   PassengerId  891 non-null    int64  \n",
      " 1   Survived     891 non-null    int64  \n",
      " 2   Pclass       891 non-null    int64  \n",
      " 3   Name         891 non-null    object \n",
      " 4   Sex          891 non-null    object \n",
      " 5   Age          714 non-null    float64\n",
      " 6   SibSp        891 non-null    int64  \n",
      " 7   Parch        891 non-null    int64  \n",
      " 8   Ticket       891 non-null    object \n",
      " 9   Fare         891 non-null    float64\n",
      " 10  Cabin        204 non-null    object \n",
      " 11  Embarked     889 non-null    object \n",
      "dtypes: float64(2), int64(5), object(5)\n",
      "memory usage: 83.7+ KB\n",
      "None\n"
     ]
    }
   ],
   "source": [
    "df = pd.read_csv('my_dataset.csv')\n",
    "print(df.info())"
   ]
  },
  {
   "cell_type": "markdown",
   "id": "e9323313",
   "metadata": {},
   "source": [
    "## 4. Are there any missing values? \n",
    "This question will help you understand if there are any missing values in the dataset that need to be handled."
   ]
  },
  {
   "cell_type": "code",
   "execution_count": 8,
   "id": "1a6e56e7",
   "metadata": {},
   "outputs": [
    {
     "name": "stdout",
     "output_type": "stream",
     "text": [
      "PassengerId      0\n",
      "Survived         0\n",
      "Pclass           0\n",
      "Name             0\n",
      "Sex              0\n",
      "Age            177\n",
      "SibSp            0\n",
      "Parch            0\n",
      "Ticket           0\n",
      "Fare             0\n",
      "Cabin          687\n",
      "Embarked         2\n",
      "dtype: int64\n"
     ]
    }
   ],
   "source": [
    "df = pd.read_csv('my_dataset.csv')\n",
    "print(df.isnull().sum())"
   ]
  },
  {
   "cell_type": "markdown",
   "id": "982f270d",
   "metadata": {},
   "source": [
    "## 5. How does the data look mathematically? \n",
    "This question will help you understand the basic statistics of the dataset such as mean, median, and standard deviation."
   ]
  },
  {
   "cell_type": "code",
   "execution_count": 9,
   "id": "d775c59c",
   "metadata": {},
   "outputs": [
    {
     "name": "stdout",
     "output_type": "stream",
     "text": [
      "       PassengerId    Survived      Pclass         Age       SibSp  \\\n",
      "count   891.000000  891.000000  891.000000  714.000000  891.000000   \n",
      "mean    446.000000    0.383838    2.308642   29.699118    0.523008   \n",
      "std     257.353842    0.486592    0.836071   14.526497    1.102743   \n",
      "min       1.000000    0.000000    1.000000    0.420000    0.000000   \n",
      "25%     223.500000    0.000000    2.000000   20.125000    0.000000   \n",
      "50%     446.000000    0.000000    3.000000   28.000000    0.000000   \n",
      "75%     668.500000    1.000000    3.000000   38.000000    1.000000   \n",
      "max     891.000000    1.000000    3.000000   80.000000    8.000000   \n",
      "\n",
      "            Parch        Fare  \n",
      "count  891.000000  891.000000  \n",
      "mean     0.381594   32.204208  \n",
      "std      0.806057   49.693429  \n",
      "min      0.000000    0.000000  \n",
      "25%      0.000000    7.910400  \n",
      "50%      0.000000   14.454200  \n",
      "75%      0.000000   31.000000  \n",
      "max      6.000000  512.329200  \n"
     ]
    }
   ],
   "source": [
    "df = pd.read_csv('my_dataset.csv')\n",
    "print(df.describe())"
   ]
  },
  {
   "cell_type": "markdown",
   "id": "995e807c",
   "metadata": {},
   "source": [
    "## 6. Are there duplicate values? \n",
    "This question will help you understand if there are any duplicate observations in the dataset that need to be removed."
   ]
  },
  {
   "cell_type": "code",
   "execution_count": 10,
   "id": "0aae8988",
   "metadata": {},
   "outputs": [
    {
     "name": "stdout",
     "output_type": "stream",
     "text": [
      "0\n"
     ]
    }
   ],
   "source": [
    "df = pd.read_csv('my_dataset.csv')\n",
    "print(df.duplicated().sum())"
   ]
  },
  {
   "cell_type": "markdown",
   "id": "b9dff3b4",
   "metadata": {},
   "source": [
    "## 7. How is the correlation between cols? \n",
    "This question will help you understand the relationship between the different features in the dataset and if there are any strong correlations between them."
   ]
  },
  {
   "cell_type": "code",
   "execution_count": 11,
   "id": "aecb0c23",
   "metadata": {},
   "outputs": [
    {
     "name": "stdout",
     "output_type": "stream",
     "text": [
      "             PassengerId  Survived    Pclass       Age     SibSp     Parch  \\\n",
      "PassengerId     1.000000 -0.005007 -0.035144  0.036847 -0.057527 -0.001652   \n",
      "Survived       -0.005007  1.000000 -0.338481 -0.077221 -0.035322  0.081629   \n",
      "Pclass         -0.035144 -0.338481  1.000000 -0.369226  0.083081  0.018443   \n",
      "Age             0.036847 -0.077221 -0.369226  1.000000 -0.308247 -0.189119   \n",
      "SibSp          -0.057527 -0.035322  0.083081 -0.308247  1.000000  0.414838   \n",
      "Parch          -0.001652  0.081629  0.018443 -0.189119  0.414838  1.000000   \n",
      "Fare            0.012658  0.257307 -0.549500  0.096067  0.159651  0.216225   \n",
      "\n",
      "                 Fare  \n",
      "PassengerId  0.012658  \n",
      "Survived     0.257307  \n",
      "Pclass      -0.549500  \n",
      "Age          0.096067  \n",
      "SibSp        0.159651  \n",
      "Parch        0.216225  \n",
      "Fare         1.000000  \n"
     ]
    },
    {
     "name": "stderr",
     "output_type": "stream",
     "text": [
      "/var/folders/s1/prjs0rvs11x47frsjkk0xwyc0000gn/T/ipykernel_3450/3312821703.py:2: FutureWarning: The default value of numeric_only in DataFrame.corr is deprecated. In a future version, it will default to False. Select only valid columns or specify the value of numeric_only to silence this warning.\n",
      "  print(df.corr())\n"
     ]
    }
   ],
   "source": [
    "df = pd.read_csv('my_dataset.csv')\n",
    "print(df.corr())"
   ]
  },
  {
   "cell_type": "markdown",
   "id": "63ef924c",
   "metadata": {},
   "source": [
    "#### By answering these basic questions, you can get a good understanding of your dataset and proceed with your analysis with confidence."
   ]
  },
  {
   "cell_type": "code",
   "execution_count": null,
   "id": "de552c58",
   "metadata": {},
   "outputs": [],
   "source": []
  }
 ],
 "metadata": {
  "kernelspec": {
   "display_name": "Python 3 (ipykernel)",
   "language": "python",
   "name": "python3"
  },
  "language_info": {
   "codemirror_mode": {
    "name": "ipython",
    "version": 3
   },
   "file_extension": ".py",
   "mimetype": "text/x-python",
   "name": "python",
   "nbconvert_exporter": "python",
   "pygments_lexer": "ipython3",
   "version": "3.10.9"
  }
 },
 "nbformat": 4,
 "nbformat_minor": 5
}
